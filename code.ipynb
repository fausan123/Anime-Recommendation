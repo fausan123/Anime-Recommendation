{
  "nbformat": 4,
  "nbformat_minor": 2,
  "metadata": {
    "orig_nbformat": 4,
    "language_info": {
      "name": "python",
      "version": "3.8.10",
      "mimetype": "text/x-python",
      "codemirror_mode": {
        "name": "ipython",
        "version": 3
      },
      "pygments_lexer": "ipython3",
      "nbconvert_exporter": "python",
      "file_extension": ".py"
    },
    "kernelspec": {
      "name": "python3",
      "display_name": "Python 3.8.10 64-bit ('rec': venv)"
    },
    "interpreter": {
      "hash": "fe778e8bdcf39258304e79d4dd901ebb4b3d49d8fc1680f471257244c1daf4d8"
    },
    "colab": {
      "name": "recommendation.ipynb",
      "provenance": [],
      "collapsed_sections": []
    }
  },
  "cells": [
    {
      "cell_type": "markdown",
      "source": [
        "# **Collaborative Filtering using Matrix Fractionalisation**"
      ],
      "metadata": {
        "id": "ik7LdKRrQLEU"
      }
    },
    {
      "cell_type": "code",
      "execution_count": 1,
      "source": [
        "import pandas as pd\r\n",
        "import numpy as np\r\n",
        "import pickle"
      ],
      "outputs": [],
      "metadata": {
        "id": "o0nh7nDasYaN"
      }
    },
    {
      "cell_type": "markdown",
      "source": [
        "The dataset used is the [Anime Recommendation Database (2020)](https://www.kaggle.com/hernan4444/anime-recommendation-database-2020). Lets load the dataset using pandas\n",
        "\n"
      ],
      "metadata": {
        "id": "hAfohuw4Lqr6"
      }
    },
    {
      "cell_type": "code",
      "execution_count": 2,
      "source": [
        "animelist = pd.read_csv('anime.csv')\r\n",
        "x = pd.read_csv('rating_complete.csv')"
      ],
      "outputs": [],
      "metadata": {
        "id": "i_i2I8IysYaR"
      }
    },
    {
      "cell_type": "markdown",
      "source": [
        "Taking only users that has rated more than 50 animes"
      ],
      "metadata": {
        "id": "RqZN9yEMQVOc"
      }
    },
    {
      "cell_type": "code",
      "execution_count": 7,
      "source": [
        "new_ratings = x['user_id'].value_counts()\r\n",
        "new_x = x[x['user_id'].isin(new_ratings[new_ratings >= 50])].copy()\r\n",
        "user_ids = {int(j): i for i, j in enumerate(new_x['user_id'].unique())}\r\n",
        "anime_ids = {int(j): i for i, j in enumerate(new_x['anime_id'].unique())}"
      ],
      "outputs": [],
      "metadata": {
        "id": "yu7FyXRxtiD-"
      }
    },
    {
      "cell_type": "markdown",
      "source": [
        "Calculating the Anime-User matrix\n"
      ],
      "metadata": {
        "id": "g6hG_3CKQkxV"
      }
    },
    {
      "cell_type": "code",
      "execution_count": 8,
      "source": [
        "num_animes = len(anime_ids)\r\n",
        "num_users = len(user_ids)\r\n",
        "print(f\"Number of animes: {num_animes}, Number of users: {num_users}\")\r\n",
        "y = np.zeros((num_animes, num_users))\r\n",
        "r = np.zeros((num_animes, num_users))\r\n",
        "print(np.shape(y))\r\n",
        "for user_id, anime_id, rating in new_x.values:\r\n",
        "    y[anime_ids[anime_id], user_ids[user_id]] = rating\r\n",
        "\r\n",
        "r = np.where(y == 0, 0, 1)"
      ],
      "outputs": [
        {
          "output_type": "stream",
          "name": "stdout",
          "text": [
            "Number of animes: 11053, Number of users: 2002\n",
            "(11053, 2002)\n"
          ]
        }
      ],
      "metadata": {
        "colab": {
          "base_uri": "https://localhost:8080/"
        },
        "id": "BnA0a9-nsYaU",
        "outputId": "6353017f-b83f-4c4d-d368-2b78d6008332"
      }
    },
    {
      "cell_type": "markdown",
      "source": [
        "Defining cost and partial derivative functions"
      ],
      "metadata": {
        "id": "-JdsIB8oQvDa"
      }
    },
    {
      "cell_type": "code",
      "execution_count": 49,
      "source": [
        "def cost(X, Theta, y, ld, num_animes, num_users, num_features):\n",
        "  J = ((np.sum(((np.dot(X, Theta.T) * r) - y) ** 2)) / 2) + ((ld * np.sum(X ** 2))/ 2) + ((ld * np.sum(Theta ** 2))/ 2)\n",
        "  return J\n",
        "\n",
        "def partial_deriv(X, Theta, y, ld, num_animes, num_users, num_features):  \n",
        "  X_grad = np.zeros(np.shape(X))\n",
        "  Theta_grad = np.zeros(np.shape(Theta))\n",
        "\n",
        "  for i in range(num_animes):\n",
        "    idx = np.argwhere(r[i, :] == 1)\n",
        "    idx = np.reshape(idx, (idx.shape[0],))\n",
        "    Theta_temp = Theta[idx, :]\n",
        "    y_temp = y[i, idx]\n",
        "\n",
        "    p_1 = (np.dot(X[i, :], Theta_temp.T) - y_temp)\n",
        "    p_2 = np.dot(p_1, Theta_temp)\n",
        "    X_grad[i, :] = p_2 + (ld * X[i, :])\n",
        "\n",
        "  for i in range(num_users):\n",
        "    idx = np.argwhere(r[:, i] == 1)\n",
        "    idx = np.reshape(idx, (idx.shape[0],))\n",
        "    X_temp = X[idx, :]\n",
        "    y_temp = y[idx, i]\n",
        "\n",
        "    p_1 = (np.dot(X_temp, Theta[i, :].T) - y_temp)\n",
        "    p_2 = np.dot(p_1.T, X_temp)\n",
        "    Theta_grad[i, :] = p_2 + (ld * Theta[i, :])\n",
        "  \n",
        "  return X_grad, Theta_grad"
      ],
      "outputs": [],
      "metadata": {
        "id": "NxACqay-91D9"
      }
    },
    {
      "cell_type": "markdown",
      "source": [
        "Initializing parameters and running for 12000 iterations"
      ],
      "metadata": {
        "id": "tuOAFTRzQ3pi"
      }
    },
    {
      "cell_type": "code",
      "execution_count": null,
      "source": [
        "norm_y = ((y.T - np.mean(y, axis=1)).T ) * r\n",
        "num_features = 10\n",
        "X = np.random.randn(num_animes, num_features)\n",
        "Theta = np.random.randn(num_users, num_features)\n",
        "\n",
        "alpha = 3e-5\n",
        "num_iters = 12000\n",
        "ld = 10\n",
        "\n",
        "costs = []\n",
        "\n",
        "for i in range(num_iters):\n",
        "  J = cost(X, Theta, norm_y, ld, num_animes, num_users, num_features)\n",
        "  costs.append(J)\n",
        "  print(f\"Cost: {J}\")\n",
        "\n",
        "  X_grad, Theta_grad = partial_deriv(X, Theta, norm_y, ld, num_animes, num_users)\n",
        "\n",
        "  X = X - (alpha * X_grad)\n",
        "  Theta = Theta - (alpha * Theta_grad)"
      ],
      "outputs": [],
      "metadata": {
        "id": "gz-tZc7lM7tv"
      }
    },
    {
      "cell_type": "markdown",
      "source": [
        "After 12000 iterations, we get a cost of nearly 30000. Now, lets try to calculate similiar animes to the given anime using the anime feature matrix (X)."
      ],
      "metadata": {
        "id": "t4CvYVliRNTe"
      }
    },
    {
      "cell_type": "code",
      "execution_count": 3,
      "source": [
        "from scipy import spatial\n",
        "\n",
        "def calculate_similiar(X, anime_id, num=5):\n",
        "  anime_index = anime_ids[anime_id]\n",
        "  anime_params = X[anime_index, :]\n",
        "  #sum_mat = np.sum((X - anime_params) ** 2, axis=1)\n",
        "  m = X.shape[0]\n",
        "  sum_mat = np.zeros(m)\n",
        "  for i in range(m):\n",
        "    sum_mat[i] = spatial.distance.cosine(X[i, :], anime_params)\n",
        "  sum_ind = np.argsort(sum_mat)\n",
        "  suggested_animes = []\n",
        "  for i in range(1, num+1):\n",
        "    idx = np.where(sum_ind == i)[0][0]\n",
        "    suggested_animes.append(list(anime_ids.keys())[idx])\n",
        "  return suggested_animes\n",
        "\n",
        "def get_animenames(ids: list):\n",
        "  info = []\n",
        "  for id in ids:\n",
        "    details = animelist[animelist[\"MAL_ID\"] == id]\n",
        "    name = details.at[details.index[0], 'Name']\n",
        "    english_name = details.at[details.index[0], 'English name']\n",
        "    genre = details.at[details.index[0], 'Genres']\n",
        "    info.append((name, english_name, genre))\n",
        "  return info"
      ],
      "outputs": [],
      "metadata": {
        "id": "cXAEjv_rdW2f"
      }
    },
    {
      "cell_type": "code",
      "execution_count": 52,
      "source": [
        "anime_name = \"Naruto\"\n",
        "anime_details = animelist[animelist[\"English name\"] == anime_name]\n",
        "id_anime = anime_details.at[anime_details.index[0], 'MAL_ID']\n",
        "ids = calculate_similiar(X, id_anime, num=10)\n",
        "anime_rec = get_animenames(ids)\n",
        "for a in range(len(anime_rec)):\n",
        "  print(f\"{a+1}. Name: {anime_rec[a][0]} | English Name: {anime_rec[a][1]} | Genres: {anime_rec[a][2]}\")\n"
      ],
      "outputs": [
        {
          "output_type": "stream",
          "name": "stdout",
          "text": [
            "1. Name: Onegai☆Teacher | English Name: Please Teacher! | Genres: Sci-Fi, Comedy, Drama, Romance, School\n",
            "2. Name: Toradora! | English Name: Toradora! | Genres: Slice of Life, Comedy, Romance, School\n",
            "3. Name: Tengen Toppa Gurren Lagann Movie Zenyasai: Viral no Amai Yume | English Name: Unknown | Genres: Comedy\n",
            "4. Name: Free!: Take Your Marks | English Name: Free! -Take Your Marks- | Genres: School, Slice of Life, Sports\n",
            "5. Name: Tengen Toppa Gurren Lagann | English Name: Gurren Lagann | Genres: Action, Adventure, Comedy, Mecha, Sci-Fi\n",
            "6. Name: Ayakashi | English Name: Unknown | Genres: Action, Sci-Fi, Horror, Fantasy\n",
            "7. Name: Kidou Senkan Nadesico | English Name: Martian Successor Nadesico | Genres: Action, Comedy, Mecha, Military, Parody, Romance, Sci-Fi, Shounen, Space\n",
            "8. Name: Owarimonogatari 2nd Season | English Name: Owarimonogatari Second Season | Genres: Mystery, Comedy, Supernatural, Vampire\n",
            "9. Name: Kyougoku Natsuhiko: Kousetsu Hyaku Monogatari | English Name: Requiem from the Darkness | Genres: Fantasy, Historical, Horror, Mystery, Psychological, Supernatural\n",
            "10. Name: Rokudenashi Majutsu Koushi to Akashic Records | English Name: Akashic Records of Bastard Magic Instructor | Genres: Action, Magic, Fantasy, School\n"
          ]
        }
      ],
      "metadata": {
        "id": "ON8ly3ghf4XZ",
        "colab": {
          "base_uri": "https://localhost:8080/"
        },
        "outputId": "128e2475-18aa-423d-d557-8925976c1c2e"
      }
    },
    {
      "cell_type": "markdown",
      "source": [
        "This is not at all related to Naruto. \n",
        "Now, lets try **Collaborative Filtering using KNN**"
      ],
      "metadata": {
        "id": "cBPPz2OQPMPb"
      }
    },
    {
      "cell_type": "code",
      "execution_count": 9,
      "source": [
        "from scipy.sparse import csr_matrix\n",
        "\n",
        "#Converting y into sparse matrix for efficient computation\n",
        "sparse_y = csr_matrix(y)"
      ],
      "outputs": [],
      "metadata": {
        "id": "yftf-SqDPYP3"
      }
    },
    {
      "cell_type": "markdown",
      "source": [
        "Now lets define our KNN model\n"
      ],
      "metadata": {
        "id": "Iu4RMhI6csq6"
      }
    },
    {
      "cell_type": "code",
      "execution_count": 10,
      "source": [
        "from sklearn.neighbors import NearestNeighbors\n",
        "\n",
        "knn_model = NearestNeighbors(metric='cosine', algorithm='brute', n_neighbors=20, n_jobs=-1)\n",
        "knn_model.fit(sparse_y)"
      ],
      "outputs": [
        {
          "output_type": "execute_result",
          "data": {
            "text/plain": [
              "NearestNeighbors(algorithm='brute', metric='cosine', n_jobs=-1, n_neighbors=20)"
            ]
          },
          "metadata": {},
          "execution_count": 10
        }
      ],
      "metadata": {
        "colab": {
          "base_uri": "https://localhost:8080/"
        },
        "id": "tlfYUbpCcvix",
        "outputId": "3653f416-7a74-4022-abbf-df7cb683d7c2"
      }
    },
    {
      "cell_type": "code",
      "execution_count": 11,
      "source": [
        "def get_knnrecommendation(knn_model, anime_id, y):\n",
        "  distances, indices = knn_model.kneighbors(y[anime_ids[anime_id], :].reshape(1, -1), n_neighbors=11)\n",
        "  reverse_ids = {v: k for k, v in anime_ids.items()}\n",
        "  anime_list = [reverse_ids[i] for i in indices.reshape(indices.shape[1])]\n",
        "  anime_list.pop(0)\n",
        "  return anime_list"
      ],
      "outputs": [],
      "metadata": {
        "id": "RaQzSRuseiSB"
      }
    },
    {
      "cell_type": "code",
      "execution_count": 12,
      "source": [
        "anime_name = \"Hunter x Hunter\"\n",
        "anime_details = animelist[animelist[\"English name\"] == anime_name]\n",
        "id_anime = anime_details.at[anime_details.index[0], 'MAL_ID']\n",
        "ids = get_knnrecommendation(knn_model, id_anime, sparse_y)\n",
        "anime_rec = get_animenames(ids)\n",
        "for a in range(len(anime_rec)):\n",
        "  print(f\"{a+1}. Name: {anime_rec[a][0]} | English Name: {anime_rec[a][1]} | Genres: {anime_rec[a][2]}\")\n"
      ],
      "outputs": [
        {
          "output_type": "stream",
          "name": "stdout",
          "text": [
            "1. Name: Hunter x Hunter: Original Video Animation | English Name: Unknown | Genres: Action, Adventure, Super Power, Shounen\n",
            "2. Name: Hunter x Hunter: Greed Island | English Name: Unknown | Genres: Action, Adventure, Super Power, Fantasy, Shounen\n",
            "3. Name: Hunter x Hunter: Greed Island Final | English Name: Unknown | Genres: Action, Adventure, Super Power, Fantasy, Shounen\n",
            "4. Name: Yuu☆Yuu☆Hakusho | English Name: Yu Yu Hakusho:Ghost Files | Genres: Action, Comedy, Demons, Supernatural, Martial Arts, Shounen\n",
            "5. Name: Fullmetal Alchemist | English Name: Fullmetal Alchemist | Genres: Action, Adventure, Comedy, Drama, Fantasy, Magic, Military, Shounen\n",
            "6. Name: Hajime no Ippo | English Name: Fighting Spirit | Genres: Comedy, Sports, Drama, Shounen\n",
            "7. Name: Naruto | English Name: Naruto | Genres: Action, Adventure, Comedy, Super Power, Martial Arts, Shounen\n",
            "8. Name: Hunter x Hunter (2011) | English Name: Hunter x Hunter | Genres: Action, Adventure, Fantasy, Shounen, Super Power\n",
            "9. Name: Fullmetal Alchemist: Brotherhood | English Name: Fullmetal Alchemist:Brotherhood | Genres: Action, Military, Adventure, Comedy, Drama, Magic, Fantasy, Shounen\n",
            "10. Name: Code Geass: Hangyaku no Lelouch | English Name: Code Geass:Lelouch of the Rebellion | Genres: Action, Military, Sci-Fi, Super Power, Drama, Mecha, School\n"
          ]
        }
      ],
      "metadata": {
        "colab": {
          "base_uri": "https://localhost:8080/"
        },
        "id": "DiKexcLqfKlu",
        "outputId": "71b01bad-d298-4911-a1db-dcfab365cca5"
      }
    },
    {
      "cell_type": "markdown",
      "source": [
        "This algorithm is better.\n",
        "Lets save the model and use it to make a **telegram bot**"
      ],
      "metadata": {
        "id": "KzEtPwdJKow3"
      }
    },
    {
      "cell_type": "code",
      "execution_count": 13,
      "source": [
        "import pickle\n",
        "var_file = open(\"/content/gdrive/MyDrive/Data/AnimeRecommendation/knnmodel\", \"wb\")\n",
        "pickle.dump(knn_model, var_file)\n",
        "var_file.close()"
      ],
      "outputs": [],
      "metadata": {
        "id": "wWvofdsTwpI1"
      }
    }
  ]
}